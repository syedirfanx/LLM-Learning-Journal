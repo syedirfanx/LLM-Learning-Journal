{
  "nbformat": 4,
  "nbformat_minor": 0,
  "metadata": {
    "colab": {
      "provenance": [],
      "gpuType": "T4"
    },
    "kernelspec": {
      "name": "python3",
      "display_name": "Python 3"
    },
    "language_info": {
      "name": "python"
    },
    "accelerator": "GPU"
  },
  "cells": [
    {
      "cell_type": "code",
      "execution_count": 2,
      "metadata": {
        "colab": {
          "base_uri": "https://localhost:8080/"
        },
        "id": "KI4i--l48djD",
        "outputId": "4fcc14e5-bdfb-4999-b60c-03fd6836b994"
      },
      "outputs": [
        {
          "output_type": "stream",
          "name": "stdout",
          "text": [
            "Mounted at /content/drive\n"
          ]
        }
      ],
      "source": [
        "from google.colab import drive\n",
        "drive.mount('/content/drive')"
      ]
    },
    {
      "cell_type": "code",
      "source": [
        "# /content/drive/My Drive/\n",
        "with open('/content/drive/My Drive/LLM/Nebula by ChatGPT.txt', 'r', encoding='utf-8') as f:\n",
        "  raw_text = f.read()\n",
        "\n",
        "print(len(raw_text))\n",
        "print(raw_text[:99])"
      ],
      "metadata": {
        "colab": {
          "base_uri": "https://localhost:8080/"
        },
        "id": "JM-HOoaF_YO3",
        "outputId": "61668250-7aa4-4df3-808b-e4bdbd1196db"
      },
      "execution_count": 3,
      "outputs": [
        {
          "output_type": "stream",
          "name": "stdout",
          "text": [
            "8716\n",
            "Nebula: The Cosmic Cradles of Creation\n",
            "Preface\n",
            "When you look at the night sky, you see thousands of\n"
          ]
        }
      ]
    },
    {
      "cell_type": "code",
      "source": [
        "import re\n",
        "\n",
        "preprocessed = re.split(r'([,.:;?_!\"()\\']|--|\\s)', raw_text)\n",
        "preprocessed = [item.strip() for item in preprocessed if item.strip()]\n",
        "print(preprocessed[:30])"
      ],
      "metadata": {
        "id": "ZfL1D5NABX_l",
        "colab": {
          "base_uri": "https://localhost:8080/"
        },
        "outputId": "d3901bb7-f978-4a3d-8411-a5801a69cbe4"
      },
      "execution_count": 5,
      "outputs": [
        {
          "output_type": "stream",
          "name": "stdout",
          "text": [
            "['Nebula', ':', 'The', 'Cosmic', 'Cradles', 'of', 'Creation', 'Preface', 'When', 'you', 'look', 'at', 'the', 'night', 'sky', ',', 'you', 'see', 'thousands', 'of', 'stars', 'scattered', 'like', 'glitter', 'across', 'a', 'black', 'canvas', '.', 'It’s']\n"
          ]
        }
      ]
    },
    {
      "cell_type": "code",
      "source": [
        "print(len(preprocessed))"
      ],
      "metadata": {
        "colab": {
          "base_uri": "https://localhost:8080/"
        },
        "id": "j9wWe72howUj",
        "outputId": "5c401684-077e-454b-fc1b-5b00282648c7"
      },
      "execution_count": 6,
      "outputs": [
        {
          "output_type": "stream",
          "name": "stdout",
          "text": [
            "1662\n"
          ]
        }
      ]
    },
    {
      "cell_type": "code",
      "source": [
        "all_words = sorted(set(preprocessed))\n",
        "vocab_size = len(all_words)\n",
        "\n",
        "print(vocab_size)"
      ],
      "metadata": {
        "colab": {
          "base_uri": "https://localhost:8080/"
        },
        "id": "KU2X9itlo92e",
        "outputId": "58c5f562-a100-496e-8b9a-ef9f5174ad60"
      },
      "execution_count": 7,
      "outputs": [
        {
          "output_type": "stream",
          "name": "stdout",
          "text": [
            "663\n"
          ]
        }
      ]
    },
    {
      "cell_type": "code",
      "source": [
        "vocab = {token:integer for integer,token in enumerate(all_words)}\n",
        "for i, item in enumerate(vocab.items()):\n",
        "    print(item)\n",
        "    if i >= 50:\n",
        "        break"
      ],
      "metadata": {
        "colab": {
          "base_uri": "https://localhost:8080/"
        },
        "id": "kv9Zd3DRpDqG",
        "outputId": "e16b9164-8ad7-43d6-fc05-f9f49845deda"
      },
      "execution_count": 8,
      "outputs": [
        {
          "output_type": "stream",
          "name": "stdout",
          "text": [
            "('!', 0)\n",
            "('&', 1)\n",
            "('(', 2)\n",
            "(')', 3)\n",
            "(',', 4)\n",
            "('.', 5)\n",
            "('//hubblesite', 6)\n",
            "('//www', 7)\n",
            "('000', 8)\n",
            "('1', 9)\n",
            "('10', 10)\n",
            "('10%', 11)\n",
            "('1054', 12)\n",
            "('17th', 13)\n",
            "('18th', 14)\n",
            "('2', 15)\n",
            "('20th', 16)\n",
            "('3', 17)\n",
            "('300', 18)\n",
            "('4', 19)\n",
            "('5', 20)\n",
            "('6', 21)\n",
            "('7', 22)\n",
            "('8', 23)\n",
            "('9', 24)\n",
            "('90%', 25)\n",
            "('964', 26)\n",
            "(':', 27)\n",
            "(';', 28)\n",
            "('?', 29)\n",
            "('A', 30)\n",
            "('AD', 31)\n",
            "('AI', 32)\n",
            "('AI-driven', 33)\n",
            "('Abd', 34)\n",
            "('Anatomy', 35)\n",
            "('Andromeda', 36)\n",
            "('Andromeda—what', 37)\n",
            "('Are', 38)\n",
            "('Aristotle', 39)\n",
            "('Art', 40)\n",
            "('As', 41)\n",
            "('Astronomers', 42)\n",
            "('At', 43)\n",
            "('Back', 44)\n",
            "('Because', 45)\n",
            "('Beyond', 46)\n",
            "('Birth', 47)\n",
            "('But', 48)\n",
            "('Carina', 49)\n",
            "('Carinae', 50)\n"
          ]
        }
      ]
    },
    {
      "cell_type": "code",
      "source": [],
      "metadata": {
        "id": "fxI2RZwoplBG"
      },
      "execution_count": null,
      "outputs": []
    }
  ]
}