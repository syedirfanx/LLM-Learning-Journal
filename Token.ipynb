{
  "nbformat": 4,
  "nbformat_minor": 0,
  "metadata": {
    "colab": {
      "provenance": [],
      "gpuType": "T4"
    },
    "kernelspec": {
      "name": "python3",
      "display_name": "Python 3"
    },
    "language_info": {
      "name": "python"
    },
    "accelerator": "GPU"
  },
  "cells": [
    {
      "cell_type": "code",
      "execution_count": 1,
      "metadata": {
        "colab": {
          "base_uri": "https://localhost:8080/"
        },
        "id": "KI4i--l48djD",
        "outputId": "4341632f-a117-4344-c276-593b82cb5a46"
      },
      "outputs": [
        {
          "output_type": "stream",
          "name": "stdout",
          "text": [
            "Mounted at /content/drive\n"
          ]
        }
      ],
      "source": [
        "from google.colab import drive\n",
        "drive.mount('/content/drive')"
      ]
    },
    {
      "cell_type": "markdown",
      "source": [
        "## Overview\n",
        "\n",
        "In this notebook, we will explore **two approaches to tokenization** for Large Language Models:\n",
        "\n",
        "1. **Manual Tokenization**  \n",
        "   - We will implement a custom tokenization process using **regular expressions (regex)**.  \n",
        "   - This approach will split text into tokens such that:  \n",
        "     - Each **word** and **special character** (`, . : ; ? _ ! \" ( ) ' --`) is treated as an individual token.  \n",
        "     - **Whitespace** will be used for splitting but will **not appear as tokens**.  \n",
        "   - This helps us understand the basic mechanics of tokenization.\n",
        "\n",
        "2. **Byte Pair Encoding (BPE) Tokenization**  \n",
        "   - We will use a library-based implementation of **BPE tokenization**, which is widely used in LLMs like GPT.  \n",
        "   - BPE combines frequent character pairs into tokens to reduce the overall vocabulary size while preserving common patterns.  \n",
        "   - This approach is **more efficient** and **closer to what real-world models use**.\n"
      ],
      "metadata": {
        "id": "KZm6S_iHXRm4"
      }
    },
    {
      "cell_type": "markdown",
      "source": [
        "### 1. **Manual Tokenization**"
      ],
      "metadata": {
        "id": "d97e-vimViWG"
      }
    },
    {
      "cell_type": "code",
      "source": [
        "with open('/content/drive/My Drive/LLM/Nebula by ChatGPT.txt', 'r', encoding='utf-8') as f:\n",
        "  raw_text = f.read()\n",
        "\n",
        "print(len(raw_text))\n",
        "print(raw_text[:99])"
      ],
      "metadata": {
        "colab": {
          "base_uri": "https://localhost:8080/"
        },
        "id": "JM-HOoaF_YO3",
        "outputId": "ada43ede-1912-4e91-f89b-ff986c870a2f"
      },
      "execution_count": 2,
      "outputs": [
        {
          "output_type": "stream",
          "name": "stdout",
          "text": [
            "8716\n",
            "Nebula: The Cosmic Cradles of Creation\n",
            "Preface\n",
            "When you look at the night sky, you see thousands of\n"
          ]
        }
      ]
    },
    {
      "cell_type": "markdown",
      "source": [
        "Split the given text into tokens based on the following rules:\n",
        "\n",
        "- **Split words and the following special characters as individual tokens:**  \n",
        "  `, . : ; ? _ ! \" ( ) ' --`  \n",
        "- **Split on whitespace, but do not include whitespace as tokens**  \n",
        "- **Remove any empty strings after splitting**  "
      ],
      "metadata": {
        "id": "uOhDBGYbWLWw"
      }
    },
    {
      "cell_type": "code",
      "source": [
        "import re\n",
        "\n",
        "preprocessed = re.split(r'([,.:;?_!\"()\\']|--|\\s)', raw_text)\n",
        "preprocessed = [item.strip() for item in preprocessed if item.strip()]\n",
        "print(preprocessed[:30])"
      ],
      "metadata": {
        "id": "ZfL1D5NABX_l",
        "colab": {
          "base_uri": "https://localhost:8080/"
        },
        "outputId": "fa9053d5-b92a-48d7-f8d1-712be22ad808"
      },
      "execution_count": 3,
      "outputs": [
        {
          "output_type": "stream",
          "name": "stdout",
          "text": [
            "['Nebula', ':', 'The', 'Cosmic', 'Cradles', 'of', 'Creation', 'Preface', 'When', 'you', 'look', 'at', 'the', 'night', 'sky', ',', 'you', 'see', 'thousands', 'of', 'stars', 'scattered', 'like', 'glitter', 'across', 'a', 'black', 'canvas', '.', 'It’s']\n"
          ]
        }
      ]
    },
    {
      "cell_type": "code",
      "source": [
        "print(len(preprocessed))"
      ],
      "metadata": {
        "colab": {
          "base_uri": "https://localhost:8080/"
        },
        "id": "j9wWe72howUj",
        "outputId": "ccfb5cdc-1d8c-4eb0-8663-340883ffb8e2"
      },
      "execution_count": 4,
      "outputs": [
        {
          "output_type": "stream",
          "name": "stdout",
          "text": [
            "1662\n"
          ]
        }
      ]
    },
    {
      "cell_type": "code",
      "source": [
        "all_words = sorted(set(preprocessed))\n",
        "vocab_size = len(all_words)\n",
        "\n",
        "print(vocab_size)"
      ],
      "metadata": {
        "colab": {
          "base_uri": "https://localhost:8080/"
        },
        "id": "KU2X9itlo92e",
        "outputId": "aef04d0e-5d1e-4da6-d765-1c1645e151aa"
      },
      "execution_count": 5,
      "outputs": [
        {
          "output_type": "stream",
          "name": "stdout",
          "text": [
            "663\n"
          ]
        }
      ]
    },
    {
      "cell_type": "code",
      "source": [
        "vocab = {token:integer for integer,token in enumerate(all_words)}\n",
        "for i, item in enumerate(vocab.items()):\n",
        "    print(item)\n",
        "    if i >= 50:\n",
        "        break"
      ],
      "metadata": {
        "colab": {
          "base_uri": "https://localhost:8080/"
        },
        "id": "kv9Zd3DRpDqG",
        "outputId": "f8c342c5-9f77-4b02-e66f-a560395a2846"
      },
      "execution_count": 6,
      "outputs": [
        {
          "output_type": "stream",
          "name": "stdout",
          "text": [
            "('!', 0)\n",
            "('&', 1)\n",
            "('(', 2)\n",
            "(')', 3)\n",
            "(',', 4)\n",
            "('.', 5)\n",
            "('//hubblesite', 6)\n",
            "('//www', 7)\n",
            "('000', 8)\n",
            "('1', 9)\n",
            "('10', 10)\n",
            "('10%', 11)\n",
            "('1054', 12)\n",
            "('17th', 13)\n",
            "('18th', 14)\n",
            "('2', 15)\n",
            "('20th', 16)\n",
            "('3', 17)\n",
            "('300', 18)\n",
            "('4', 19)\n",
            "('5', 20)\n",
            "('6', 21)\n",
            "('7', 22)\n",
            "('8', 23)\n",
            "('9', 24)\n",
            "('90%', 25)\n",
            "('964', 26)\n",
            "(':', 27)\n",
            "(';', 28)\n",
            "('?', 29)\n",
            "('A', 30)\n",
            "('AD', 31)\n",
            "('AI', 32)\n",
            "('AI-driven', 33)\n",
            "('Abd', 34)\n",
            "('Anatomy', 35)\n",
            "('Andromeda', 36)\n",
            "('Andromeda—what', 37)\n",
            "('Are', 38)\n",
            "('Aristotle', 39)\n",
            "('Art', 40)\n",
            "('As', 41)\n",
            "('Astronomers', 42)\n",
            "('At', 43)\n",
            "('Back', 44)\n",
            "('Because', 45)\n",
            "('Beyond', 46)\n",
            "('Birth', 47)\n",
            "('But', 48)\n",
            "('Carina', 49)\n",
            "('Carinae', 50)\n"
          ]
        }
      ]
    },
    {
      "cell_type": "code",
      "source": [
        "all_tokens = sorted(list(set(preprocessed)))\n",
        "all_tokens.extend([\"<|endoftext|>\", \"<|unk|>\"])\n",
        "\n",
        "vocab = {token:integer for integer,token in enumerate(all_tokens)}"
      ],
      "metadata": {
        "id": "xkaq3iJn2nag"
      },
      "execution_count": 7,
      "outputs": []
    },
    {
      "cell_type": "code",
      "source": [
        "class SimpleTokenizer:\n",
        "    def __init__(self, vocab):\n",
        "        self.str_to_int = vocab\n",
        "        self.int_to_str = { i:s for s,i in vocab.items()}\n",
        "\n",
        "    def encode(self, text):\n",
        "        preprocessed = re.split(r'([,.:;?_!\"()\\']|--|\\s)', text)\n",
        "        preprocessed = [item.strip() for item in preprocessed if item.strip()]\n",
        "        preprocessed = [\n",
        "            item if item in self.str_to_int\n",
        "            else \"<|unk|>\" for item in preprocessed\n",
        "        ]\n",
        "\n",
        "        ids = [self.str_to_int[s] for s in preprocessed]\n",
        "        return ids\n",
        "\n",
        "    def decode(self, ids):\n",
        "        text = \" \".join([self.int_to_str[i] for i in ids])\n",
        "        text = re.sub(r'\\s+([,.:;?!\"()\\'])', r'\\1', text)\n",
        "        return text"
      ],
      "metadata": {
        "id": "fxI2RZwoplBG"
      },
      "execution_count": 8,
      "outputs": []
    },
    {
      "cell_type": "code",
      "source": [
        "tokenizer = SimpleTokenizer(vocab)\n",
        "text = 'Nebulae are vast clouds of gas and dust in space, acting as the birthplaces and graveyards of stars, shaping the life cycle of the cosmos. They come in stunning forms—glowing, dark, or shattered remnants—each telling a story of creation, destruction, and renewal in the universe.'"
      ],
      "metadata": {
        "id": "jVUQ8D1rzLaA"
      },
      "execution_count": 9,
      "outputs": []
    },
    {
      "cell_type": "code",
      "source": [
        "text"
      ],
      "metadata": {
        "colab": {
          "base_uri": "https://localhost:8080/",
          "height": 52
        },
        "id": "GsqBUUT52Bkb",
        "outputId": "381d082c-88f0-445d-b296-2e416940a3a3"
      },
      "execution_count": 10,
      "outputs": [
        {
          "output_type": "execute_result",
          "data": {
            "text/plain": [
              "'Nebulae are vast clouds of gas and dust in space, acting as the birthplaces and graveyards of stars, shaping the life cycle of the cosmos. They come in stunning forms—glowing, dark, or shattered remnants—each telling a story of creation, destruction, and renewal in the universe.'"
            ],
            "application/vnd.google.colaboratory.intrinsic+json": {
              "type": "string"
            }
          },
          "metadata": {},
          "execution_count": 10
        }
      ]
    },
    {
      "cell_type": "code",
      "source": [
        "tokenizer.encode(text)"
      ],
      "metadata": {
        "colab": {
          "base_uri": "https://localhost:8080/"
        },
        "id": "0B8n8eeH1nPj",
        "outputId": "3b23ff14-2b85-42fa-8a00-a3da272a46a5"
      },
      "execution_count": 11,
      "outputs": [
        {
          "output_type": "execute_result",
          "data": {
            "text/plain": [
              "[126,\n",
              " 207,\n",
              " 632,\n",
              " 273,\n",
              " 486,\n",
              " 365,\n",
              " 203,\n",
              " 314,\n",
              " 400,\n",
              " 570,\n",
              " 4,\n",
              " 191,\n",
              " 211,\n",
              " 602,\n",
              " 664,\n",
              " 203,\n",
              " 664,\n",
              " 486,\n",
              " 580,\n",
              " 4,\n",
              " 664,\n",
              " 602,\n",
              " 428,\n",
              " 664,\n",
              " 486,\n",
              " 602,\n",
              " 664,\n",
              " 5,\n",
              " 165,\n",
              " 283,\n",
              " 400,\n",
              " 588,\n",
              " 664,\n",
              " 4,\n",
              " 299,\n",
              " 4,\n",
              " 493,\n",
              " 664,\n",
              " 664,\n",
              " 664,\n",
              " 187,\n",
              " 584,\n",
              " 486,\n",
              " 296,\n",
              " 4,\n",
              " 307,\n",
              " 4,\n",
              " 203,\n",
              " 664,\n",
              " 400,\n",
              " 602,\n",
              " 628,\n",
              " 5]"
            ]
          },
          "metadata": {},
          "execution_count": 11
        }
      ]
    },
    {
      "cell_type": "code",
      "source": [
        "tokenizer.decode(tokenizer.encode(text))"
      ],
      "metadata": {
        "colab": {
          "base_uri": "https://localhost:8080/",
          "height": 52
        },
        "id": "eeb_mIeR2C8O",
        "outputId": "fa76e022-4350-41e2-d9ce-0b5671ca324a"
      },
      "execution_count": 12,
      "outputs": [
        {
          "output_type": "execute_result",
          "data": {
            "text/plain": [
              "'Nebulae are vast clouds of gas and dust in space, acting as the <|unk|> and <|unk|> of stars, <|unk|> the life <|unk|> of the <|unk|>. They come in stunning <|unk|>, dark, or <|unk|> <|unk|> <|unk|> a story of creation, destruction, and <|unk|> in the universe.'"
            ],
            "application/vnd.google.colaboratory.intrinsic+json": {
              "type": "string"
            }
          },
          "metadata": {},
          "execution_count": 12
        }
      ]
    },
    {
      "cell_type": "markdown",
      "source": [
        "BPE"
      ],
      "metadata": {
        "id": "72d9xz3YgpIe"
      }
    },
    {
      "cell_type": "code",
      "source": [
        "# !pip3 install tiktoken"
      ],
      "metadata": {
        "id": "YkELgppigsuz"
      },
      "execution_count": 13,
      "outputs": []
    },
    {
      "cell_type": "code",
      "source": [
        "import importlib\n",
        "import tiktoken"
      ],
      "metadata": {
        "id": "CFPjrNQgg0Zu"
      },
      "execution_count": 14,
      "outputs": []
    },
    {
      "cell_type": "code",
      "source": [
        "tokenizer = tiktoken.get_encoding(\"gpt2\")"
      ],
      "metadata": {
        "id": "EwFSReYMg_kj"
      },
      "execution_count": 15,
      "outputs": []
    },
    {
      "cell_type": "code",
      "source": [
        "text = (\n",
        "    'Nebulae are enormous clouds of gas and dust scattered across the universe, serving as the cradles where stars are born. These majestic formations can span hundreds of light-years and display breathtaking colors when illuminated by young, hot stars. <|endoftext|> Some nebulae glow brightly as emission regions, while others appear dark, blocking the starlight behind them. They play a crucial role in recycling elements, giving rise to new stars and planetary systems over billions of years. Studying nebulae helps scientists understand the origin of stars, planets, and even life itself.'\n",
        ")"
      ],
      "metadata": {
        "id": "6sJPVE8TUiB4"
      },
      "execution_count": 17,
      "outputs": []
    },
    {
      "cell_type": "code",
      "source": [
        "integers = tokenizer.encode(text, allowed_special={\"<|endoftext|>\"})\n",
        "\n",
        "print(integers)"
      ],
      "metadata": {
        "colab": {
          "base_uri": "https://localhost:8080/"
        },
        "id": "IHggo4lDVHFf",
        "outputId": "af8291f9-45b3-4ef8-b2c1-060c561b9963"
      },
      "execution_count": 18,
      "outputs": [
        {
          "output_type": "stream",
          "name": "stdout",
          "text": [
            "[45, 1765, 377, 3609, 389, 9812, 15114, 286, 3623, 290, 8977, 16830, 1973, 262, 6881, 11, 7351, 355, 262, 1067, 324, 829, 810, 5788, 389, 4642, 13, 2312, 45308, 30648, 460, 11506, 5179, 286, 1657, 12, 19002, 290, 3359, 35589, 7577, 618, 35162, 416, 1862, 11, 3024, 5788, 13, 220, 50256, 2773, 497, 15065, 3609, 19634, 35254, 355, 25592, 7652, 11, 981, 1854, 1656, 3223, 11, 12013, 262, 3491, 2971, 2157, 606, 13, 1119, 711, 257, 8780, 2597, 287, 25914, 4847, 11, 3501, 4485, 284, 649, 5788, 290, 27047, 3341, 625, 13188, 286, 812, 13, 3604, 1112, 497, 15065, 3609, 5419, 5519, 1833, 262, 8159, 286, 5788, 11, 14705, 11, 290, 772, 1204, 2346, 13]\n"
          ]
        }
      ]
    },
    {
      "cell_type": "code",
      "source": [
        "tokenizer.decode(integers)"
      ],
      "metadata": {
        "colab": {
          "base_uri": "https://localhost:8080/",
          "height": 87
        },
        "id": "BjhGxZADVL6d",
        "outputId": "c4b28709-3ead-4447-bfcb-9faad3d47459"
      },
      "execution_count": 19,
      "outputs": [
        {
          "output_type": "execute_result",
          "data": {
            "text/plain": [
              "'Nebulae are enormous clouds of gas and dust scattered across the universe, serving as the cradles where stars are born. These majestic formations can span hundreds of light-years and display breathtaking colors when illuminated by young, hot stars. <|endoftext|> Some nebulae glow brightly as emission regions, while others appear dark, blocking the starlight behind them. They play a crucial role in recycling elements, giving rise to new stars and planetary systems over billions of years. Studying nebulae helps scientists understand the origin of stars, planets, and even life itself.'"
            ],
            "application/vnd.google.colaboratory.intrinsic+json": {
              "type": "string"
            }
          },
          "metadata": {},
          "execution_count": 19
        }
      ]
    }
  ]
}